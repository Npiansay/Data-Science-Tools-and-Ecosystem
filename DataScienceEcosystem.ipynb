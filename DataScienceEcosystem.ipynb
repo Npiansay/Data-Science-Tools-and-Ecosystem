{
 "cells": [
  {
   "cell_type": "markdown",
   "id": "e479319f-7664-4231-8313-14637ee42bd9",
   "metadata": {},
   "source": [
    "# Data Science Tools and Ecosystem"
   ]
  },
  {
   "cell_type": "markdown",
   "id": "dae1c245-8d6e-46f3-b996-4ca4bc335c45",
   "metadata": {},
   "source": [
    "## Authur: Nicholas Piansay"
   ]
  },
  {
   "cell_type": "markdown",
   "id": "a8151650-f2ff-4ddd-a528-5b3ca83e98d8",
   "metadata": {},
   "source": [
    "In this notebook, Data Science Tools and Ecosystem are summarized."
   ]
  },
  {
   "cell_type": "markdown",
   "id": "1526a6c8-9bc0-4a67-ac5b-6bf3b8cc6b11",
   "metadata": {},
   "source": [
    "**Objectives:**\n",
    "* List popular languages for Data Science\n",
    "* List commonly used libraries for Data Science\n",
    "* List popular tools for Data Science\n",
    "* Examples of evaluating arithmetic expressions in Python"
   ]
  },
  {
   "cell_type": "markdown",
   "id": "8ae584bb-c6a2-40c5-98c8-19f54a80b56e",
   "metadata": {},
   "source": [
    "Some of the popular languages that Data Scientists use are:\n",
    "1. R\n",
    "2. Python\n",
    "3. SQL"
   ]
  },
  {
   "cell_type": "markdown",
   "id": "5abbacdc-0233-4831-974a-04bb145e6b64",
   "metadata": {},
   "source": [
    "Some of the commonly used libraries used by Data Scientists include:\n",
    "1. numpy\r",
    "2. \n",
    "panda\n",
    "3. \r\n",
    "matplot"
   ]
  },
  {
   "cell_type": "markdown",
   "id": "1122ae13-9696-4bb4-9c1b-75c38386f214",
   "metadata": {},
   "source": [
    "| Data Science Tools |\n",
    "| ------------------ |\n",
    "| JupyterLab |\n",
    "| VisualStudio |\n",
    "| GoogleColab |\n"
   ]
  },
  {
   "cell_type": "markdown",
   "id": "4895c369-886c-48dd-bd12-63f6f93163d4",
   "metadata": {},
   "source": [
    "### Below are a few examples of evaluating arithmetic expressions in Python"
   ]
  },
  {
   "cell_type": "code",
   "execution_count": 5,
   "id": "c506cc1e-42c5-447d-8245-a7184ac0a199",
   "metadata": {},
   "outputs": [
    {
     "data": {
      "text/plain": [
       "17"
      ]
     },
     "execution_count": 5,
     "metadata": {},
     "output_type": "execute_result"
    }
   ],
   "source": [
    "# This a simple arithmetic expression to mutiply then add integers\n",
    "(3*4)+5"
   ]
  },
  {
   "cell_type": "code",
   "execution_count": 10,
   "id": "0bf8cd78-cdc9-41a9-8ba6-68633527f1db",
   "metadata": {},
   "outputs": [
    {
     "data": {
      "text/plain": [
       "3.3333333333333335"
      ]
     },
     "execution_count": 10,
     "metadata": {},
     "output_type": "execute_result"
    }
   ],
   "source": [
    "# This will convert 200 minutes to hours by diving by 60\n",
    "minutes = 200\n",
    "hours = 60\n",
    "minutes / hours"
   ]
  },
  {
   "cell_type": "code",
   "execution_count": null,
   "id": "67567640-4779-4a9d-aadf-548aba33decd",
   "metadata": {},
   "outputs": [],
   "source": []
  },
  {
   "cell_type": "code",
   "execution_count": null,
   "id": "dbd3cc90-81f3-48c9-838f-d067bab89654",
   "metadata": {},
   "outputs": [],
   "source": []
  }
 ],
 "metadata": {
  "kernelspec": {
   "display_name": "Python 3 (ipykernel)",
   "language": "python",
   "name": "python3"
  },
  "language_info": {
   "codemirror_mode": {
    "name": "ipython",
    "version": 3
   },
   "file_extension": ".py",
   "mimetype": "text/x-python",
   "name": "python",
   "nbconvert_exporter": "python",
   "pygments_lexer": "ipython3",
   "version": "3.12.0"
  }
 },
 "nbformat": 4,
 "nbformat_minor": 5
}
